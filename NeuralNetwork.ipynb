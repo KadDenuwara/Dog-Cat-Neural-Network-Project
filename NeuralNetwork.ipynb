{
 "cells": [
  {
   "metadata": {
    "ExecuteTime": {
     "end_time": "2024-12-24T09:39:15.636214Z",
     "start_time": "2024-12-24T09:39:07.488884Z"
    }
   },
   "cell_type": "code",
   "source": [
    "import tensorflow as tf\n",
    "tf.config.list_physical_devices('GPU')\n",
    "tf.test.is_gpu_available()\n",
    "from tensorflow.keras.preprocessing.image import ImageDataGenerator"
   ],
   "id": "766ec5169ee9352f",
   "outputs": [
    {
     "name": "stdout",
     "output_type": "stream",
     "text": [
      "WARNING:tensorflow:From C:\\Users\\kadde\\AppData\\Local\\Temp\\ipykernel_7472\\1496575711.py:3: is_gpu_available (from tensorflow.python.framework.test_util) is deprecated and will be removed in a future version.\n",
      "Instructions for updating:\n",
      "Use `tf.config.list_physical_devices('GPU')` instead.\n"
     ]
    }
   ],
   "execution_count": 1
  },
  {
   "metadata": {
    "ExecuteTime": {
     "end_time": "2024-12-24T09:39:15.844994Z",
     "start_time": "2024-12-24T09:39:15.646424Z"
    }
   },
   "cell_type": "code",
   "source": [
    "# Initialize the CNN\n",
    "classifier = tf.keras.models.Sequential([\n",
    "    tf.keras.layers.Conv2D(32, (3, 3), activation='relu', input_shape=(64, 64, 3)),\n",
    "    tf.keras.layers.MaxPooling2D(pool_size=(2, 2)),\n",
    "    tf.keras.layers.Flatten(),\n",
    "    tf.keras.layers.Dense(128, activation='relu'),\n",
    "    tf.keras.layers.Dense(1, activation='sigmoid')\n",
    "])"
   ],
   "id": "a2e4b48bb9e6a88e",
   "outputs": [],
   "execution_count": 2
  },
  {
   "metadata": {
    "ExecuteTime": {
     "end_time": "2024-12-24T09:39:16.002687Z",
     "start_time": "2024-12-24T09:39:15.971218Z"
    }
   },
   "cell_type": "code",
   "source": [
    "# Compile the CNN\n",
    "classifier.compile(optimizer='adam', loss='binary_crossentropy', metrics=['accuracy'])"
   ],
   "id": "a7d34aae2641d36d",
   "outputs": [],
   "execution_count": 3
  },
  {
   "metadata": {
    "ExecuteTime": {
     "end_time": "2024-12-24T09:39:16.034486Z",
     "start_time": "2024-12-24T09:39:16.021064Z"
    }
   },
   "cell_type": "code",
   "source": [
    "# Part 2 - Fitting the CNN to the images\n",
    "#from keras_preprocessing.image import ImageDataGenerator\n",
    "\n",
    "train_datagen = ImageDataGenerator(rescale = 1./255,\n",
    "                                   shear_range = 0.2,\n",
    "                                   zoom_range = 0.2,\n",
    "                                   horizontal_flip = True)"
   ],
   "id": "b941453e37161f0b",
   "outputs": [],
   "execution_count": 4
  },
  {
   "metadata": {
    "ExecuteTime": {
     "end_time": "2024-12-24T09:39:16.498866Z",
     "start_time": "2024-12-24T09:39:16.053106Z"
    }
   },
   "cell_type": "code",
   "source": [
    "training_set = train_datagen.flow_from_directory(\"datasets\\\\training_set\",\n",
    "                                                 target_size= (64,64),\n",
    "                                                 batch_size= 32,\n",
    "                                                 class_mode= 'binary')"
   ],
   "id": "aabf4b80302f88c8",
   "outputs": [
    {
     "name": "stdout",
     "output_type": "stream",
     "text": [
      "Found 8000 images belonging to 2 classes.\n"
     ]
    }
   ],
   "execution_count": 5
  },
  {
   "metadata": {
    "ExecuteTime": {
     "end_time": "2024-12-24T09:39:16.642283Z",
     "start_time": "2024-12-24T09:39:16.517112Z"
    }
   },
   "cell_type": "code",
   "source": [
    "test_datagen = ImageDataGenerator(rescale = 1./255)\n",
    "test_set = test_datagen.flow_from_directory(\"datasets\\\\test_set\",\n",
    "                                            target_size=(64,64),\n",
    "                                            batch_size=32,\n",
    "                                            class_mode='binary')"
   ],
   "id": "ed904fde86f39a2",
   "outputs": [
    {
     "name": "stdout",
     "output_type": "stream",
     "text": [
      "Found 2000 images belonging to 2 classes.\n"
     ]
    }
   ],
   "execution_count": 6
  },
  {
   "metadata": {
    "ExecuteTime": {
     "end_time": "2024-12-24T09:57:27.917717Z",
     "start_time": "2024-12-24T09:39:16.657540Z"
    }
   },
   "cell_type": "code",
   "source": [
    "# Train the CNN\n",
    "classifier.fit(\n",
    "    training_set,\n",
    "    steps_per_epoch=len(training_set),  # Number of batches per epoch\n",
    "    epochs= 50,\n",
    "    validation_data=test_set,\n",
    "    validation_steps=len(test_set)     # Number of batches in the validation set\n",
    ")"
   ],
   "id": "684b3d3e78082505",
   "outputs": [
    {
     "name": "stdout",
     "output_type": "stream",
     "text": [
      "Epoch 1/50\n",
      "250/250 [==============================] - 25s 83ms/step - loss: 0.6586 - accuracy: 0.6184 - val_loss: 0.5799 - val_accuracy: 0.7125\n",
      "Epoch 2/50\n",
      "250/250 [==============================] - 20s 79ms/step - loss: 0.5793 - accuracy: 0.6967 - val_loss: 0.5473 - val_accuracy: 0.7255\n",
      "Epoch 3/50\n",
      "250/250 [==============================] - 20s 80ms/step - loss: 0.5489 - accuracy: 0.7179 - val_loss: 0.5638 - val_accuracy: 0.7015\n",
      "Epoch 4/50\n",
      "250/250 [==============================] - 20s 79ms/step - loss: 0.5304 - accuracy: 0.7350 - val_loss: 0.5361 - val_accuracy: 0.7290\n",
      "Epoch 5/50\n",
      "250/250 [==============================] - 20s 80ms/step - loss: 0.5169 - accuracy: 0.7410 - val_loss: 0.5319 - val_accuracy: 0.7285\n",
      "Epoch 6/50\n",
      "250/250 [==============================] - 20s 79ms/step - loss: 0.4979 - accuracy: 0.7510 - val_loss: 0.5953 - val_accuracy: 0.7120\n",
      "Epoch 7/50\n",
      "250/250 [==============================] - 20s 80ms/step - loss: 0.4880 - accuracy: 0.7605 - val_loss: 0.5235 - val_accuracy: 0.7570\n",
      "Epoch 8/50\n",
      "250/250 [==============================] - 20s 79ms/step - loss: 0.4731 - accuracy: 0.7688 - val_loss: 0.5064 - val_accuracy: 0.7510\n",
      "Epoch 9/50\n",
      "250/250 [==============================] - 20s 78ms/step - loss: 0.4674 - accuracy: 0.7680 - val_loss: 0.5515 - val_accuracy: 0.7575\n",
      "Epoch 10/50\n",
      "250/250 [==============================] - 19s 77ms/step - loss: 0.4518 - accuracy: 0.7883 - val_loss: 0.5404 - val_accuracy: 0.7535\n",
      "Epoch 11/50\n",
      "250/250 [==============================] - 20s 78ms/step - loss: 0.4389 - accuracy: 0.7887 - val_loss: 0.5553 - val_accuracy: 0.7540\n",
      "Epoch 12/50\n",
      "250/250 [==============================] - 20s 78ms/step - loss: 0.4286 - accuracy: 0.8009 - val_loss: 0.5284 - val_accuracy: 0.7620\n",
      "Epoch 13/50\n",
      "250/250 [==============================] - 20s 79ms/step - loss: 0.4173 - accuracy: 0.8052 - val_loss: 0.6018 - val_accuracy: 0.7370\n",
      "Epoch 14/50\n",
      "250/250 [==============================] - 20s 80ms/step - loss: 0.4075 - accuracy: 0.8101 - val_loss: 0.5273 - val_accuracy: 0.7740\n",
      "Epoch 15/50\n",
      "250/250 [==============================] - 24s 96ms/step - loss: 0.3915 - accuracy: 0.8209 - val_loss: 0.5527 - val_accuracy: 0.7600\n",
      "Epoch 16/50\n",
      "250/250 [==============================] - 21s 85ms/step - loss: 0.3783 - accuracy: 0.8319 - val_loss: 0.5898 - val_accuracy: 0.7520\n",
      "Epoch 17/50\n",
      "250/250 [==============================] - 20s 78ms/step - loss: 0.3752 - accuracy: 0.8276 - val_loss: 0.5429 - val_accuracy: 0.7695\n",
      "Epoch 18/50\n",
      "250/250 [==============================] - 20s 78ms/step - loss: 0.3599 - accuracy: 0.8399 - val_loss: 0.5723 - val_accuracy: 0.7495\n",
      "Epoch 19/50\n",
      "250/250 [==============================] - 24s 94ms/step - loss: 0.3608 - accuracy: 0.8359 - val_loss: 0.5584 - val_accuracy: 0.7640\n",
      "Epoch 20/50\n",
      "250/250 [==============================] - 24s 97ms/step - loss: 0.3430 - accuracy: 0.8490 - val_loss: 0.5584 - val_accuracy: 0.7540\n",
      "Epoch 21/50\n",
      "250/250 [==============================] - 24s 95ms/step - loss: 0.3383 - accuracy: 0.8540 - val_loss: 0.5873 - val_accuracy: 0.7605\n",
      "Epoch 22/50\n",
      "250/250 [==============================] - 24s 95ms/step - loss: 0.3258 - accuracy: 0.8559 - val_loss: 0.5877 - val_accuracy: 0.7680\n",
      "Epoch 23/50\n",
      "250/250 [==============================] - 24s 97ms/step - loss: 0.3035 - accuracy: 0.8705 - val_loss: 0.5924 - val_accuracy: 0.7700\n",
      "Epoch 24/50\n",
      "250/250 [==============================] - 24s 97ms/step - loss: 0.3024 - accuracy: 0.8681 - val_loss: 0.6105 - val_accuracy: 0.7560\n",
      "Epoch 25/50\n",
      "250/250 [==============================] - 24s 97ms/step - loss: 0.2961 - accuracy: 0.8739 - val_loss: 0.6439 - val_accuracy: 0.7625\n",
      "Epoch 26/50\n",
      "250/250 [==============================] - 24s 97ms/step - loss: 0.2936 - accuracy: 0.8709 - val_loss: 0.6345 - val_accuracy: 0.7645\n",
      "Epoch 27/50\n",
      "250/250 [==============================] - 24s 95ms/step - loss: 0.2674 - accuracy: 0.8859 - val_loss: 0.6298 - val_accuracy: 0.7690\n",
      "Epoch 28/50\n",
      "250/250 [==============================] - 24s 95ms/step - loss: 0.2692 - accuracy: 0.8838 - val_loss: 0.6646 - val_accuracy: 0.7685\n",
      "Epoch 29/50\n",
      "250/250 [==============================] - 24s 97ms/step - loss: 0.2600 - accuracy: 0.8951 - val_loss: 0.6817 - val_accuracy: 0.7495\n",
      "Epoch 30/50\n",
      "250/250 [==============================] - 24s 95ms/step - loss: 0.2480 - accuracy: 0.8959 - val_loss: 0.6577 - val_accuracy: 0.7630\n",
      "Epoch 31/50\n",
      "250/250 [==============================] - 24s 95ms/step - loss: 0.2375 - accuracy: 0.8999 - val_loss: 0.7073 - val_accuracy: 0.7650\n",
      "Epoch 32/50\n",
      "250/250 [==============================] - 24s 96ms/step - loss: 0.2353 - accuracy: 0.9011 - val_loss: 0.8551 - val_accuracy: 0.7365\n",
      "Epoch 33/50\n",
      "250/250 [==============================] - 24s 94ms/step - loss: 0.2203 - accuracy: 0.9116 - val_loss: 0.7935 - val_accuracy: 0.7470\n",
      "Epoch 34/50\n",
      "250/250 [==============================] - 24s 95ms/step - loss: 0.2274 - accuracy: 0.9061 - val_loss: 0.7187 - val_accuracy: 0.7635\n",
      "Epoch 35/50\n",
      "250/250 [==============================] - 23s 94ms/step - loss: 0.2062 - accuracy: 0.9125 - val_loss: 0.7815 - val_accuracy: 0.7555\n",
      "Epoch 36/50\n",
      "250/250 [==============================] - 24s 96ms/step - loss: 0.2064 - accuracy: 0.9131 - val_loss: 0.7724 - val_accuracy: 0.7650\n",
      "Epoch 37/50\n",
      "250/250 [==============================] - 24s 94ms/step - loss: 0.2062 - accuracy: 0.9215 - val_loss: 0.8254 - val_accuracy: 0.7590\n",
      "Epoch 38/50\n",
      "250/250 [==============================] - 24s 94ms/step - loss: 0.1864 - accuracy: 0.9252 - val_loss: 0.8636 - val_accuracy: 0.7600\n",
      "Epoch 39/50\n",
      "250/250 [==============================] - 23s 94ms/step - loss: 0.1936 - accuracy: 0.9210 - val_loss: 0.9082 - val_accuracy: 0.7460\n",
      "Epoch 40/50\n",
      "250/250 [==============================] - 24s 95ms/step - loss: 0.1797 - accuracy: 0.9281 - val_loss: 0.8324 - val_accuracy: 0.7460\n",
      "Epoch 41/50\n",
      "250/250 [==============================] - 23s 93ms/step - loss: 0.1866 - accuracy: 0.9249 - val_loss: 0.8328 - val_accuracy: 0.7550\n",
      "Epoch 42/50\n",
      "250/250 [==============================] - 20s 80ms/step - loss: 0.1788 - accuracy: 0.9287 - val_loss: 0.8784 - val_accuracy: 0.7515\n",
      "Epoch 43/50\n",
      "250/250 [==============================] - 20s 78ms/step - loss: 0.1667 - accuracy: 0.9291 - val_loss: 1.1203 - val_accuracy: 0.7130\n",
      "Epoch 44/50\n",
      "250/250 [==============================] - 19s 77ms/step - loss: 0.1661 - accuracy: 0.9326 - val_loss: 0.8758 - val_accuracy: 0.7520\n",
      "Epoch 45/50\n",
      "250/250 [==============================] - 19s 77ms/step - loss: 0.1599 - accuracy: 0.9388 - val_loss: 0.9598 - val_accuracy: 0.7450\n",
      "Epoch 46/50\n",
      "250/250 [==============================] - 19s 77ms/step - loss: 0.1611 - accuracy: 0.9384 - val_loss: 1.0659 - val_accuracy: 0.7440\n",
      "Epoch 47/50\n",
      "250/250 [==============================] - 19s 78ms/step - loss: 0.1457 - accuracy: 0.9402 - val_loss: 1.0140 - val_accuracy: 0.7450\n",
      "Epoch 48/50\n",
      "250/250 [==============================] - 19s 77ms/step - loss: 0.1551 - accuracy: 0.9394 - val_loss: 0.8743 - val_accuracy: 0.7620\n",
      "Epoch 49/50\n",
      "250/250 [==============================] - 19s 77ms/step - loss: 0.1524 - accuracy: 0.9416 - val_loss: 0.9384 - val_accuracy: 0.7470\n",
      "Epoch 50/50\n",
      "250/250 [==============================] - 19s 78ms/step - loss: 0.1414 - accuracy: 0.9456 - val_loss: 0.9742 - val_accuracy: 0.7660\n"
     ]
    },
    {
     "data": {
      "text/plain": [
       "<keras.callbacks.History at 0x1bc91b9f4f0>"
      ]
     },
     "execution_count": 7,
     "metadata": {},
     "output_type": "execute_result"
    }
   ],
   "execution_count": 7
  },
  {
   "metadata": {
    "ExecuteTime": {
     "end_time": "2024-12-24T09:57:35.780994Z",
     "start_time": "2024-12-24T09:57:35.442895Z"
    }
   },
   "cell_type": "code",
   "source": [
    "# Making Prediction\n",
    "\n",
    "import numpy as np\n",
    "from tensorflow.keras.preprocessing import image\n",
    "\n",
    "test_image = image.load_img('datasets/single_prediction/cat_or_dog_1.jpg', target_size=(64, 64))\n",
    "test_image = image.img_to_array(test_image)\n",
    "test_image = np.expand_dims(test_image, axis=0)\n",
    "result = classifier.predict(test_image)\n",
    "training_set.class_indices\n",
    "if result[0][0] == 1:\n",
    "    prediction = 'dog'\n",
    "else:\n",
    "    prediction = 'cat'\n",
    "\n",
    "print(prediction)"
   ],
   "id": "b28f3659e87b52e9",
   "outputs": [
    {
     "name": "stdout",
     "output_type": "stream",
     "text": [
      "1/1 [==============================] - 0s 272ms/step\n",
      "dog\n"
     ]
    }
   ],
   "execution_count": 8
  },
  {
   "metadata": {
    "ExecuteTime": {
     "end_time": "2024-12-24T09:57:35.876423Z",
     "start_time": "2024-12-24T09:57:35.787308Z"
    }
   },
   "cell_type": "code",
   "source": [
    "# Making Prediction\n",
    "\n",
    "import numpy as np\n",
    "from tensorflow.keras.preprocessing import image\n",
    "\n",
    "test_image = image.load_img('datasets/single_prediction/cat_or_dog_2.jpg', target_size=(64, 64))\n",
    "test_image = image.img_to_array(test_image)\n",
    "test_image = np.expand_dims(test_image, axis=0)\n",
    "result = classifier.predict(test_image)\n",
    "print(result)\n",
    "training_set.class_indices\n",
    "if result[0][0] == 1:\n",
    "    prediction = 'dog'\n",
    "else:\n",
    "    prediction = 'cat'\n",
    "\n",
    "print(prediction)"
   ],
   "id": "5db853e5981814ba",
   "outputs": [
    {
     "name": "stdout",
     "output_type": "stream",
     "text": [
      "1/1 [==============================] - 0s 21ms/step\n",
      "[[1.]]\n",
      "dog\n"
     ]
    }
   ],
   "execution_count": 9
  },
  {
   "metadata": {
    "ExecuteTime": {
     "end_time": "2024-12-24T09:57:36.021876Z",
     "start_time": "2024-12-24T09:57:35.893583Z"
    }
   },
   "cell_type": "code",
   "source": [
    "# Save the model in HDF5 format\n",
    "classifier.save('cat_dog_model.h5')  # Saves as 'cat_dog_model.h5' in the current folder"
   ],
   "id": "185caa2f1397125a",
   "outputs": [],
   "execution_count": 10
  }
 ],
 "metadata": {
  "kernelspec": {
   "name": "python3",
   "language": "python",
   "display_name": "Python 3 (ipykernel)"
  }
 },
 "nbformat": 5,
 "nbformat_minor": 9
}

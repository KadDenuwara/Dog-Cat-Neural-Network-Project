{
 "cells": [
  {
   "metadata": {
    "ExecuteTime": {
     "end_time": "2024-12-25T21:28:43.835578Z",
     "start_time": "2024-12-25T21:28:43.827528Z"
    }
   },
   "cell_type": "code",
   "source": [
    "import tensorflow as tf\n",
    "tf.config.list_physical_devices('GPU')\n",
    "tf.test.is_gpu_available()\n",
    "from tensorflow.keras.preprocessing.image import ImageDataGenerator"
   ],
   "id": "766ec5169ee9352f",
   "outputs": [],
   "execution_count": 2
  },
  {
   "metadata": {
    "ExecuteTime": {
     "end_time": "2024-12-25T21:28:44.354996Z",
     "start_time": "2024-12-25T21:28:43.869790Z"
    }
   },
   "cell_type": "code",
   "source": [
    "# Initialize the CNN\n",
    "classifier = tf.keras.models.Sequential([\n",
    "    tf.keras.layers.Conv2D(32, (3, 3), activation='relu', input_shape=(64, 64, 3)),\n",
    "    tf.keras.layers.MaxPooling2D(pool_size=(2, 2)),\n",
    "    tf.keras.layers.Flatten(),\n",
    "    tf.keras.layers.Dense(128, activation='relu'),\n",
    "    tf.keras.layers.Dense(1, activation='sigmoid')\n",
    "])"
   ],
   "id": "a2e4b48bb9e6a88e",
   "outputs": [],
   "execution_count": 3
  },
  {
   "metadata": {
    "ExecuteTime": {
     "end_time": "2024-12-25T21:28:44.386996Z",
     "start_time": "2024-12-25T21:28:44.354996Z"
    }
   },
   "cell_type": "code",
   "source": [
    "# Compile the CNN\n",
    "classifier.compile(optimizer='adam', loss='binary_crossentropy', metrics=['accuracy'])"
   ],
   "id": "a7d34aae2641d36d",
   "outputs": [],
   "execution_count": 4
  },
  {
   "metadata": {
    "ExecuteTime": {
     "end_time": "2024-12-25T21:28:44.459427Z",
     "start_time": "2024-12-25T21:28:44.453805Z"
    }
   },
   "cell_type": "code",
   "source": [
    "# Part 2 - Fitting the CNN to the images\n",
    "#from keras_preprocessing.image import ImageDataGenerator\n",
    "\n",
    "train_datagen = ImageDataGenerator(rescale = 1./255,\n",
    "                                   shear_range = 0.2,\n",
    "                                   zoom_range = 0.2,\n",
    "                                   horizontal_flip = True)"
   ],
   "id": "b941453e37161f0b",
   "outputs": [],
   "execution_count": 5
  },
  {
   "metadata": {
    "ExecuteTime": {
     "end_time": "2024-12-25T21:28:44.944116Z",
     "start_time": "2024-12-25T21:28:44.475076Z"
    }
   },
   "cell_type": "code",
   "source": [
    "training_set = train_datagen.flow_from_directory(\"datasets\\\\training_set\",\n",
    "                                                 target_size= (64,64),\n",
    "                                                 batch_size= 32,\n",
    "                                                 class_mode= 'binary')"
   ],
   "id": "aabf4b80302f88c8",
   "outputs": [
    {
     "name": "stdout",
     "output_type": "stream",
     "text": [
      "Found 8000 images belonging to 2 classes.\n"
     ]
    }
   ],
   "execution_count": 6
  },
  {
   "metadata": {
    "ExecuteTime": {
     "end_time": "2024-12-25T21:28:45.102369Z",
     "start_time": "2024-12-25T21:28:44.963169Z"
    }
   },
   "cell_type": "code",
   "source": [
    "test_datagen = ImageDataGenerator(rescale = 1./255)\n",
    "test_set = test_datagen.flow_from_directory(\"datasets\\\\test_set\",\n",
    "                                            target_size=(64,64),\n",
    "                                            batch_size=32,\n",
    "                                            class_mode='binary')"
   ],
   "id": "ed904fde86f39a2",
   "outputs": [
    {
     "name": "stdout",
     "output_type": "stream",
     "text": [
      "Found 2000 images belonging to 2 classes.\n"
     ]
    }
   ],
   "execution_count": 7
  },
  {
   "metadata": {
    "ExecuteTime": {
     "end_time": "2024-12-25T21:38:33.383081Z",
     "start_time": "2024-12-25T21:28:45.119889Z"
    }
   },
   "cell_type": "code",
   "source": [
    "# Train the CNN\n",
    "classifier.fit(\n",
    "    training_set,\n",
    "    steps_per_epoch=len(training_set),  # Number of batches per epoch\n",
    "    epochs= 25,\n",
    "    validation_data=test_set,\n",
    "    validation_steps=len(test_set)     # Number of batches in the validation set\n",
    ")"
   ],
   "id": "684b3d3e78082505",
   "outputs": [
    {
     "name": "stdout",
     "output_type": "stream",
     "text": [
      "Epoch 1/25\n",
      "250/250 [==============================] - 42s 133ms/step - loss: 0.6734 - accuracy: 0.6024 - val_loss: 0.6289 - val_accuracy: 0.6330\n",
      "Epoch 2/25\n",
      "250/250 [==============================] - 27s 106ms/step - loss: 0.5960 - accuracy: 0.6836 - val_loss: 0.5969 - val_accuracy: 0.6810\n",
      "Epoch 3/25\n",
      "250/250 [==============================] - 22s 88ms/step - loss: 0.5629 - accuracy: 0.7095 - val_loss: 0.5689 - val_accuracy: 0.7125\n",
      "Epoch 4/25\n",
      "250/250 [==============================] - 23s 92ms/step - loss: 0.5426 - accuracy: 0.7199 - val_loss: 0.5607 - val_accuracy: 0.7080\n",
      "Epoch 5/25\n",
      "250/250 [==============================] - 26s 102ms/step - loss: 0.5236 - accuracy: 0.7329 - val_loss: 0.5396 - val_accuracy: 0.7345\n",
      "Epoch 6/25\n",
      "250/250 [==============================] - 25s 100ms/step - loss: 0.5100 - accuracy: 0.7458 - val_loss: 0.5249 - val_accuracy: 0.7470\n",
      "Epoch 7/25\n",
      "250/250 [==============================] - 25s 99ms/step - loss: 0.5018 - accuracy: 0.7486 - val_loss: 0.5372 - val_accuracy: 0.7430\n",
      "Epoch 8/25\n",
      "250/250 [==============================] - 22s 89ms/step - loss: 0.4919 - accuracy: 0.7607 - val_loss: 0.5536 - val_accuracy: 0.7345\n",
      "Epoch 9/25\n",
      "250/250 [==============================] - 22s 87ms/step - loss: 0.4828 - accuracy: 0.7632 - val_loss: 0.5267 - val_accuracy: 0.7550\n",
      "Epoch 10/25\n",
      "250/250 [==============================] - 22s 88ms/step - loss: 0.4680 - accuracy: 0.7793 - val_loss: 0.5141 - val_accuracy: 0.7690\n",
      "Epoch 11/25\n",
      "250/250 [==============================] - 22s 88ms/step - loss: 0.4646 - accuracy: 0.7741 - val_loss: 0.5323 - val_accuracy: 0.7695\n",
      "Epoch 12/25\n",
      "250/250 [==============================] - 21s 86ms/step - loss: 0.4451 - accuracy: 0.7943 - val_loss: 0.5202 - val_accuracy: 0.7600\n",
      "Epoch 13/25\n",
      "250/250 [==============================] - 22s 87ms/step - loss: 0.4373 - accuracy: 0.7928 - val_loss: 0.5363 - val_accuracy: 0.7700\n",
      "Epoch 14/25\n",
      "250/250 [==============================] - 22s 87ms/step - loss: 0.4248 - accuracy: 0.8019 - val_loss: 0.5077 - val_accuracy: 0.7705\n",
      "Epoch 15/25\n",
      "250/250 [==============================] - 22s 86ms/step - loss: 0.4240 - accuracy: 0.8008 - val_loss: 0.5208 - val_accuracy: 0.7725\n",
      "Epoch 16/25\n",
      "250/250 [==============================] - 22s 86ms/step - loss: 0.4211 - accuracy: 0.8006 - val_loss: 0.5180 - val_accuracy: 0.7630\n",
      "Epoch 17/25\n",
      "250/250 [==============================] - 22s 88ms/step - loss: 0.3993 - accuracy: 0.8106 - val_loss: 0.5180 - val_accuracy: 0.7680\n",
      "Epoch 18/25\n",
      "250/250 [==============================] - 22s 86ms/step - loss: 0.3924 - accuracy: 0.8211 - val_loss: 0.5516 - val_accuracy: 0.7525\n",
      "Epoch 19/25\n",
      "250/250 [==============================] - 23s 91ms/step - loss: 0.3838 - accuracy: 0.8255 - val_loss: 0.5571 - val_accuracy: 0.7705\n",
      "Epoch 20/25\n",
      "250/250 [==============================] - 26s 104ms/step - loss: 0.3670 - accuracy: 0.8371 - val_loss: 0.5469 - val_accuracy: 0.7785\n",
      "Epoch 21/25\n",
      "250/250 [==============================] - 22s 86ms/step - loss: 0.3699 - accuracy: 0.8290 - val_loss: 0.7320 - val_accuracy: 0.7200\n",
      "Epoch 22/25\n",
      "250/250 [==============================] - 22s 87ms/step - loss: 0.3617 - accuracy: 0.8350 - val_loss: 0.5949 - val_accuracy: 0.7500\n",
      "Epoch 23/25\n",
      "250/250 [==============================] - 22s 87ms/step - loss: 0.3488 - accuracy: 0.8455 - val_loss: 0.5602 - val_accuracy: 0.7625\n",
      "Epoch 24/25\n",
      "250/250 [==============================] - 22s 87ms/step - loss: 0.3458 - accuracy: 0.8461 - val_loss: 0.5695 - val_accuracy: 0.7580\n",
      "Epoch 25/25\n",
      "250/250 [==============================] - 22s 88ms/step - loss: 0.3398 - accuracy: 0.8522 - val_loss: 0.7190 - val_accuracy: 0.7370\n"
     ]
    },
    {
     "data": {
      "text/plain": [
       "<keras.callbacks.History at 0x1ccc806a7d0>"
      ]
     },
     "execution_count": 8,
     "metadata": {},
     "output_type": "execute_result"
    }
   ],
   "execution_count": 8
  },
  {
   "metadata": {
    "ExecuteTime": {
     "end_time": "2024-12-25T21:38:33.841066Z",
     "start_time": "2024-12-25T21:38:33.495706Z"
    }
   },
   "cell_type": "code",
   "source": [
    "# Making Prediction\n",
    "\n",
    "import numpy as np\n",
    "from tensorflow.keras.preprocessing import image\n",
    "\n",
    "test_image = image.load_img('datasets/single_prediction/cat_or_dog_1.jpg', target_size=(64, 64))\n",
    "test_image = image.img_to_array(test_image)\n",
    "test_image = np.expand_dims(test_image, axis=0)\n",
    "result = classifier.predict(test_image)\n",
    "training_set.class_indices\n",
    "if result[0][0] == 1:\n",
    "    prediction = 'dog'\n",
    "else:\n",
    "    prediction = 'cat'\n",
    "\n",
    "print(prediction)"
   ],
   "id": "b28f3659e87b52e9",
   "outputs": [
    {
     "name": "stdout",
     "output_type": "stream",
     "text": [
      "1/1 [==============================] - 0s 241ms/step\n",
      "dog\n"
     ]
    }
   ],
   "execution_count": 9
  },
  {
   "metadata": {
    "ExecuteTime": {
     "end_time": "2024-12-25T21:38:33.935723Z",
     "start_time": "2024-12-25T21:38:33.841066Z"
    }
   },
   "cell_type": "code",
   "source": [
    "# Making Prediction\n",
    "\n",
    "import numpy as np\n",
    "from tensorflow.keras.preprocessing import image\n",
    "\n",
    "test_image = image.load_img('datasets/single_prediction/cat_or_dog_2.jpg', target_size=(64, 64))\n",
    "test_image = image.img_to_array(test_image)\n",
    "test_image = np.expand_dims(test_image, axis=0)\n",
    "result = classifier.predict(test_image)\n",
    "print(result)\n",
    "training_set.class_indices\n",
    "if result[0][0] == 1:\n",
    "    prediction = 'dog'\n",
    "else:\n",
    "    prediction = 'cat'\n",
    "\n",
    "print(prediction)"
   ],
   "id": "5db853e5981814ba",
   "outputs": [
    {
     "name": "stdout",
     "output_type": "stream",
     "text": [
      "1/1 [==============================] - 0s 16ms/step\n",
      "[[0.]]\n",
      "cat\n"
     ]
    }
   ],
   "execution_count": 10
  },
  {
   "metadata": {
    "ExecuteTime": {
     "end_time": "2024-12-25T21:38:34.062002Z",
     "start_time": "2024-12-25T21:38:33.951614Z"
    }
   },
   "cell_type": "code",
   "source": [
    "# Save the model in HDF5 format\n",
    "classifier.save('cat_dog_model.h5')  # Saves as 'cat_dog_model.h5' in the current folder"
   ],
   "id": "185caa2f1397125a",
   "outputs": [],
   "execution_count": 11
  }
 ],
 "metadata": {
  "kernelspec": {
   "name": "python3",
   "language": "python",
   "display_name": "Python 3 (ipykernel)"
  }
 },
 "nbformat": 5,
 "nbformat_minor": 9
}
